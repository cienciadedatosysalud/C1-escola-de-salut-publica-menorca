{
  "nbformat": 4,
  "nbformat_minor": 0,
  "metadata": {
    "colab": {
      "provenance": []
    },
    "kernelspec": {
      "name": "python3",
      "display_name": "Python 3"
    },
    "language_info": {
      "name": "python"
    }
  },
  "cells": [
    {
      "cell_type": "markdown",
      "source": [
        "\n",
        "<img src=\"https://github.com/cienciadedatosysalud/C1-escola-de-salut-publica-menorca/blob/main/img/escola_salut_publica_menorca_24.png\">\n",
        "\n",
        "\n",
        "\n",
        "\n",
        "# C1. Utilización de datos de vida real (RWD/RWE) para la Evaluación de Tecnologías Sanitarias (ETS) (RWD4HTA)\n",
        "---\n",
        "# Tutorial ASPIRE (Google Colab)\n",
        "### - Autor: **Francisco Estupiñan-Romero**, Instituto Aragonés de Ciencias de la Salud (España)\n",
        "### - Email: <festupinnan@iacs.es>\n",
        "### - Autor: **Enrique Bernal-Delgado MD PhD**, Instituto Aragonés de Ciencias de la Salud (España)\n",
        "### - Email: <ebernal@iacs.es>\n",
        "\n",
        "\n",
        "---"
      ],
      "metadata": {
        "id": "n6KHAA2SQr78"
      }
    },
    {
      "cell_type": "markdown",
      "source": [
        "\n",
        "### Hola 🙋\n",
        "### Si estás por aquí es debido a que seguramente has tenido algún problema a la hora de usar Docker.\n",
        "\n",
        "### Sin embargo, no te preocupes no tendrás que abandonar la isla y podrás continuar el ejercicio desde aquí.\n",
        "\n",
        "### Aún así te recuerdo donde puedes encontrar las instrucciones y pasos que debes seguir para poder desplegar tu proyecto usando ASPIRE. [MANUAL ASPIRE](https://github.com/cienciadedatosysalud/manual_aspire)\n",
        "\n",
        "Ahora siéntete un hacker 💻 y ejecuta los siguientes pasos:"
      ],
      "metadata": {
        "id": "2_793WtvrP48"
      }
    },
    {
      "cell_type": "markdown",
      "source": [
        "\n",
        "\n",
        "\n",
        "## Paso 1 - Instalar todas las dependencias:\n",
        "\n",
        "\n",
        "\n",
        "\n",
        "En el siguiente chunk de código se intenta reproducir el entorno de ejecución para que tus análisis se ejecuten correctamente.\n",
        "\n",
        "El entorno de ejecución es una reprodución del que obtendrías usando Docker.\n",
        "\n",
        "Ejecuta el chunk y espera a que todo esté instalado y configurado.\n",
        "\n",
        "### Tranquilo, no hace falta entenderlo (disfruta mejor de Paco y Quique 😀)  \n",
        "\n"
      ],
      "metadata": {
        "id": "Wd9fCoOtf_5p"
      }
    },
    {
      "cell_type": "code",
      "execution_count": null,
      "metadata": {
        "id": "oP13Ai0RwsHD",
        "collapsed": true
      },
      "outputs": [],
      "source": [
        "!sudo apt-get remove nodejs\n",
        "!curl -fsSL https://deb.nodesource.com/setup_18.x | sudo -E bash -\n",
        "!sudo apt-get install -y nodejs\n",
        "!node -v\n",
        "\n",
        "\n",
        "\n",
        "!wget -qO- https://micromamba.snakepit.net/api/micromamba/linux-64/latest | tar -xvj -C /usr/local/bin --strip-components=1 bin/micromamba\n",
        "\n",
        "!rm -rf \"aspire\"\n",
        "!rm -rf \"atlas-farmacia\"\n",
        "\n",
        "!git clone https://github.com/cienciadedatosysalud/aspire\n",
        "!git clone https://github.com/cienciadedatosysalud/atlas-farmacia\n",
        "\n",
        "!mv ./atlas-farmacia/atlas_antibioticos/ ./aspire/projects/\n",
        "!mv ./atlas-farmacia/atlas_opioides/ ./aspire/projects/\n",
        "\n",
        "\n",
        "!sudo apt update && apt install -y --no-install-recommends \\\n",
        "  && apt install -y xdg-utils graphviz \\\n",
        "  && rm -rf /var/lib/apt/lists/*\n",
        "\n",
        "\n",
        "!micromamba create -y -f ./aspire/env.yaml \\\n",
        "    && micromamba run -n aspire pip uninstall -y tangled_up_in_unicode \\\n",
        "    && micromamba clean --all --yes \\\n",
        "    && rm -rf /opt/conda/conda-meta\n",
        "\n",
        "\n",
        "!micromamba install -y -n aspire -f ./atlas-farmacia/env_project.yaml \\\n",
        "  && micromamba run -n aspire Rscript -e \"remotes::install_github('gadenbuie/epoxy')\" \\ && micromamba clean --all --yes \\\n",
        "  && micromamba -n aspire install -y quarto -c conda-forge \\\n",
        "  && micromamba -n aspire install -y r-quarto -c conda-forge \\\n",
        "  && rm -rf /opt/conda/conda-meta /tmp/env_project.yaml\n",
        "\n",
        "\n",
        "%cd ./aspire/gui_aspire/\n",
        "!npm install\n",
        "!npm run build\n",
        "!mv front ../api_aspire/\n",
        "\n",
        "%cd ..\n",
        "\n",
        "!mv projects/ api_aspire/\n",
        "\n",
        "\n",
        "!rm -rf sample_data\n",
        "!rm -rf atlas-farmacia\n",
        "\n"
      ]
    },
    {
      "cell_type": "code",
      "source": [
        "# 2- Instala la librería localtunnel para hacer google colab accesible externamente.\n",
        "!npm install -g localtunnel\n"
      ],
      "metadata": {
        "id": "d0-43AqP38wv"
      },
      "execution_count": 2,
      "outputs": []
    },
    {
      "cell_type": "markdown",
      "source": [
        "# PASO 2 - Obtenga su IP pública:\n",
        "\n",
        "En este paso, mostraremos la IP pública de tu Google Colab.\n",
        "\n",
        "Esta IP se utilizará más adelante.\n",
        "\n",
        "**POR FAVOR, RECUÉRDALA Y NO LA COMPARTAS**."
      ],
      "metadata": {
        "id": "H7Vp7-7bhSEn"
      }
    },
    {
      "cell_type": "code",
      "source": [
        "!echo Tu IP pública es:\n",
        "\n",
        "!curl ipecho.net/plain"
      ],
      "metadata": {
        "colab": {
          "base_uri": "https://localhost:8080/"
        },
        "id": "jAOk5hop9SyZ",
        "outputId": "98efedef-f527-4422-9d78-72dfbcffebbf"
      },
      "execution_count": 9,
      "outputs": [
        {
          "output_type": "stream",
          "name": "stdout",
          "text": [
            "Your public IP is:\n",
            "35.245.105.14"
          ]
        }
      ]
    },
    {
      "cell_type": "markdown",
      "source": [
        "# PASO 3 - Ejecutar la aplicación ASPIRE:\n",
        "\n",
        "En este punto, ejecutaremos ASPIRE en segundo plano y configuraremos el túnel para que sea accesible desde el navegador.\n",
        "## **(nota: la aplicación será accesible desde el exterior)**.\n",
        "---\n",
        "\n",
        "Una vez ejecutada la siguiente celda. Terminará mostrando algo como lo siguiente:\n",
        "\n",
        "> INFO:     Started server process [8528]\n",
        "\n",
        "> INFO:     Waiting for application startup.\n",
        "\n",
        "> INFO:     Application startup complete.\n",
        "\n",
        "> INFO:     Uvicorn running on http://0.0.0.0:3000 (Press CTRL+C to quit)\n",
        "\n",
        "> npx: installed 22 in 4.475s\n",
        "\n",
        "> your url is: https://url_name.loca.lt\n",
        "\n",
        "\n",
        "Por favor, abre la url que aparece en \"your url is:\" en otra pestaña del navegador (NO cierres Google Colab).\n",
        "\n",
        "La aplicación te pedirá que introduzca la contraseña.\n",
        "\n",
        "Escriba la IP obtenida en el **PASO 2** (**Asegúrate de no insertar espacios**)\n",
        "\n",
        "<img src=\"https://github.com/cienciadedatosysalud/C1-escola-de-salut-publica-menorca/blob/main/img/tunnel_img.png\" alt=\"add_ip\" style=\"width:80%;\"/>\n",
        "\n",
        "Una vez aceptado, deberías ver la interfaz de ASPIRE. ¡Disfruta!😀\n",
        "\n",
        "<img src=\"https://github.com/cienciadedatosysalud/C1-escola-de-salut-publica-menorca/blob/main/img/aspire_img.png\" alt=\"cdmb_ui\" style=\"width:80%;\"/>"
      ],
      "metadata": {
        "id": "uEdfpXhOh6zf"
      }
    },
    {
      "cell_type": "code",
      "source": [
        "%cd api_aspire\n",
        "!micromamba -n aspire run python3 main.py & npx localtunnel --port 3000\n"
      ],
      "metadata": {
        "id": "eQnd6xL19aBk"
      },
      "execution_count": null,
      "outputs": []
    },
    {
      "cell_type": "markdown",
      "source": [
        "# **Detén el proceso antes de cerrar la pestaña.**"
      ],
      "metadata": {
        "id": "ig8m6PWVj9WZ"
      }
    }
  ]
}