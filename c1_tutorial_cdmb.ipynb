{
  "nbformat": 4,
  "nbformat_minor": 0,
  "metadata": {
    "colab": {
      "provenance": []
    },
    "kernelspec": {
      "name": "python3",
      "display_name": "Python 3"
    },
    "language_info": {
      "name": "python"
    }
  },
  "cells": [
    {
      "cell_type": "markdown",
      "source": [
        "\n",
        "<img src=\"https://github.com/cienciadedatosysalud/C1-escola-de-salut-publica-menorca/blob/main/img/escola_salut_publica_menorca_24.png?raw=true\">\n",
        "\n",
        "\n",
        "# C1. Utilización de datos de vida real (RWD/RWE) para la Evaluación de Tecnologías Sanitarias (ETS) (RWD4HTA)\n",
        "---\n",
        "# Tutorial Common Data Model Builder (Google Colab)\n",
        "\n",
        "### - Autor: **Francisco Estupiñan-Romero**, Instituto Aragonés de Ciencias de la Salud (España)\n",
        "### - Email: <festupinnan@iacs.es>\n",
        "### - Autor: **Enrique Bernal-Delgado MD PhD**, Instituto Aragonés de Ciencias de la Salud (España)\n",
        "### - Email: <ebernal@iacs.es>\n",
        "\n",
        "\n",
        "---"
      ],
      "metadata": {
        "id": "n6KHAA2SQr78"
      }
    },
    {
      "cell_type": "markdown",
      "source": [
        "\n",
        "### Hola 🙋\n",
        "### Si estás por aquí es debido a que seguramente has tenido algún problema a la hora de usar Docker.\n",
        "\n",
        "### Sin embargo, no te preocupes no tendrás que abandonar la isla y podrás continuar el ejercicio desde aquí.\n",
        "\n",
        "Ahora siéntete un hacker 💻 y ejecuta los siguientes pasos:"
      ],
      "metadata": {
        "id": "2_793WtvrP48"
      }
    },
    {
      "cell_type": "markdown",
      "source": [
        "\n",
        "\n",
        "\n",
        "## Paso 1 - Instalar todas las dependencias:\n",
        "\n",
        "\n"
      ],
      "metadata": {
        "id": "Wd9fCoOtf_5p"
      }
    },
    {
      "cell_type": "code",
      "execution_count": null,
      "metadata": {
        "id": "oP13Ai0RwsHD",
        "collapsed": true
      },
      "outputs": [],
      "source": [
        "# 1- Instala la libreria localtunnel para hacer Google Colab accesible externamente.\n",
        "!npm install -g localtunnel\n",
        "\n",
        "#-Instala la librería necesaria para crear entornos virtuales en Python.\n",
        "!pip3 install virtualenv\n",
        "\n",
        "# Crear un entorno virtual para descargar la librería Common Data Model Builder (cdmb).\n",
        "# En nuestro caso se llamará «mahon».\n",
        "!virtualenv mahon\n",
        "\n",
        "\n",
        "# Activar el entorno virtual e instalar la librería.\n",
        "!source /content/mahon/bin/activate; pip3 install cdmb\n"
      ]
    },
    {
      "cell_type": "markdown",
      "source": [
        "🔼 **Asegúrate de que todo se ha instalado correctamente.**"
      ],
      "metadata": {
        "id": "H3Q8yl8EzWIs"
      }
    },
    {
      "cell_type": "markdown",
      "source": [
        "# PASO 2 - Crear el archivo Python para ejecutar Common Data Model Builder (cdmb)\n",
        "\n",
        "Siguiendo el ejemplo de ***cómo ejecutar [cdmb ui](https://github.com/cienciadedatosysalud/cdmb#example) desde python***, proporcionado en el repositorio cdmb, creamos el fichero ***app.py*** con el código necesario."
      ],
      "metadata": {
        "id": "BNVU0JSIzcmr"
      }
    },
    {
      "cell_type": "code",
      "source": [
        "%%writefile app.py\n",
        "from cdmb import launch_ui\n",
        "\n",
        "server_address = \"0.0.0.0\"\n",
        "port = 8000\n",
        "\n",
        "launch_ui(server_address, port)\n"
      ],
      "metadata": {
        "id": "bsK4Fk0nzoea"
      },
      "execution_count": null,
      "outputs": []
    },
    {
      "cell_type": "code",
      "source": [
        "# Muestra el contenido de app.py para comprobar que se ha creado correctamente.\n",
        "!cat app.py"
      ],
      "metadata": {
        "id": "uVnIdUyOzscc"
      },
      "execution_count": null,
      "outputs": []
    },
    {
      "cell_type": "markdown",
      "source": [
        "# PASO 3 - Obtenga su IP pública:\n",
        "\n",
        "En este paso, mostraremos la IP pública de tu Google Colab.\n",
        "\n",
        "Esta IP se utilizará más adelante.\n",
        "\n",
        "**POR FAVOR, RECUÉRDALA Y NO LA COMPARTAS**."
      ],
      "metadata": {
        "id": "H7Vp7-7bhSEn"
      }
    },
    {
      "cell_type": "code",
      "source": [
        "!echo Tu IP pública es:\n",
        "\n",
        "!curl ipecho.net/plain"
      ],
      "metadata": {
        "id": "jAOk5hop9SyZ"
      },
      "execution_count": null,
      "outputs": []
    },
    {
      "cell_type": "markdown",
      "source": [
        "# PASO 4 - Ejecutar la aplicación Common Data Model Builder:\n",
        "\n",
        "En este punto, ejecutaremos el Common Data Model Builder en segundo plano y configuraremos el túnel para que sea accesible desde el navegador.\n",
        "## **(nota: la aplicación será accesible desde el exterior)**.\n",
        "---\n",
        "\n",
        "Una vez ejecutada la siguiente celda. Terminará mostrando algo como lo siguiente:\n",
        "\n",
        "> INFO:     Started server process [8528]\n",
        "\n",
        "> INFO:     Waiting for application startup.\n",
        "\n",
        "> INFO:     Application startup complete.\n",
        "\n",
        "> INFO:     Uvicorn running on http://0.0.0.0:8000 (Press CTRL+C to quit)\n",
        "\n",
        "> npx: installed 22 in 4.475s\n",
        "\n",
        "> your url is: https://url_name.loca.lt\n",
        "\n",
        "\n",
        "Por favor, abre la url que aparece en \"your url is:\" en otra pestaña del navegador (NO cierres Google Colab).\n",
        "\n",
        "La aplicación te pedirá que introduzca la contraseña.\n",
        "\n",
        "Escriba la IP obtenida en el **PASO 3** (**Asegúrate de no insertar espacios**)\n",
        "\n",
        "<img src=\"https://github.com/cienciadedatosysalud/C1-escola-de-salut-publica-menorca/blob/main/img/tunnel_img.png?raw=true\" alt=\"add_ip\" style=\"width:80%;\"/>\n",
        "\n",
        "Una vez aceptado, deberías ver la interfaz del Common Data Model Builder. ¡Disfruta!😀\n",
        "\n",
        "<img src=\"https://github.com/cienciadedatosysalud/tutorial_cdmb_EUPHA/blob/main/img/cdmb_ui.png?raw=1\" alt=\"cdmb_ui\" style=\"width:80%;\"/>"
      ],
      "metadata": {
        "id": "uEdfpXhOh6zf"
      }
    },
    {
      "cell_type": "code",
      "source": [
        "!source /content/mahon/bin/activate; python3 app.py & npx localtunnel --port 8000\n"
      ],
      "metadata": {
        "id": "eQnd6xL19aBk"
      },
      "execution_count": null,
      "outputs": []
    },
    {
      "cell_type": "markdown",
      "source": [
        "# **Detén el proceso antes de cerrar la pestaña.**"
      ],
      "metadata": {
        "id": "ig8m6PWVj9WZ"
      }
    }
  ]
}